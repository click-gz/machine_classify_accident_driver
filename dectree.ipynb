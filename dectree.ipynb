{
 "cells": [
  {
   "cell_type": "code",
   "execution_count": null,
   "metadata": {
    "collapsed": true
   },
   "outputs": [],
   "source": []
  },
  {
   "cell_type": "code",
   "execution_count": null,
   "outputs": [],
   "source": [
    "import pandas as pd\n",
    "import numpy as np"
   ],
   "metadata": {
    "collapsed": false
   }
  },
  {
   "cell_type": "code",
   "execution_count": null,
   "outputs": [],
   "source": [
    "def read_excel(path=\"./data.xlsx\"):\n",
    "    data_xls = pd.io.excel.ExcelFile(path)\n",
    "    data={}\n",
    "    print(data_xls.sheet_names)\n",
    "    for name in data_xls.sheet_names:\n",
    "        df=pd.read_excel(data_xls,sheet_name=name)\n",
    "        data[name]=df\n",
    "        # print(name, \" : df = \",df , type(df))\n",
    "        if df.empty:\n",
    "            continue\n",
    "    return data\n",
    "\n",
    "data = read_excel()\n",
    "data"
   ],
   "metadata": {
    "collapsed": false
   }
  },
  {
   "cell_type": "code",
   "execution_count": null,
   "outputs": [],
   "source": [
    "pinformation = data[\"驾驶员基本信息\"]\n",
    "pwork = data[\"工作时长\"]\n",
    "service_violation = data[\"服务违章\"]\n",
    "safety_violation = data[\"安全违章\"]\n",
    "safety_accident = data[\"安全事故\"]"
   ],
   "metadata": {
    "collapsed": false
   }
  },
  {
   "cell_type": "code",
   "execution_count": null,
   "outputs": [],
   "source": [
    "# pinformation\n",
    "# 男 - 1 ； 女 - 0\n",
    "pinformation[\"性别\"].value_counts()\n",
    "pinformation.loc[pinformation[\"性别\"]=='男' , '性别']=1\n",
    "pinformation.loc[pinformation[\"性别\"]=='女' , '性别']=0\n",
    "pinformation"
   ],
   "metadata": {
    "collapsed": false
   }
  },
  {
   "cell_type": "code",
   "execution_count": null,
   "outputs": [],
   "source": [
    "pinformation[\"分公司\"].value_counts()\n",
    "pinformation = pinformation.drop(labels=\"分公司\", axis=1)\n",
    "pinformation"
   ],
   "metadata": {
    "collapsed": false
   }
  },
  {
   "cell_type": "code",
   "execution_count": null,
   "outputs": [],
   "source": [
    "pinformation[\"学历\"].value_counts()\n",
    "# 普高 0，中专 1， 初中 2， 大专 3， 高中（普高） 4， 本科 5， 技校 6， 职高 7 ，小学 8， nan 9\n",
    "pinformation.loc[pinformation[\"学历\"]=='普高' , '学历']=0\n",
    "pinformation.loc[pinformation[\"学历\"]=='中专' , '学历']=1\n",
    "pinformation.loc[pinformation[\"学历\"]=='初中' , '学历']=2\n",
    "pinformation.loc[pinformation[\"学历\"]=='大专' , '学历']=3\n",
    "pinformation.loc[pinformation[\"学历\"]=='高中（普高）' , '学历']=4\n",
    "pinformation.loc[pinformation[\"学历\"]=='本科' , '学历']=5\n",
    "pinformation.loc[pinformation[\"学历\"]=='技校' , '学历']=6\n",
    "pinformation.loc[pinformation[\"学历\"]=='职高' , '学历']=7\n",
    "pinformation.loc[pinformation[\"学历\"]=='小学' , '学历']=8\n",
    "pinformation[\"学历\"] = pinformation[\"学历\"].fillna(9)\n",
    "pinformation"
   ],
   "metadata": {
    "collapsed": false
   }
  },
  {
   "cell_type": "code",
   "execution_count": null,
   "outputs": [],
   "source": [
    "pinformation['出生日期'] = pd.to_datetime(pinformation['出生日期'])\n",
    "import datetime as dt\n",
    "now_year = dt.datetime.today().year\n",
    "# pinformation['age'] = now_year - frame.birth.dt.year\n",
    "pinformation['出生日期'] = now_year - pinformation['出生日期'].dt.year\n",
    "\n",
    "pinformation['入职日期'] = pd.to_datetime(pinformation['入职日期'])\n",
    "now_year = dt.datetime.today().year\n",
    "# pinformation['age'] = now_year - frame.birth.dt.year\n",
    "pinformation['入职日期'] = now_year - pinformation['入职日期'].dt.year\n",
    "\n",
    "pinformation"
   ],
   "metadata": {
    "collapsed": false
   }
  },
  {
   "cell_type": "code",
   "execution_count": null,
   "outputs": [],
   "source": [
    "# pinformation = pinformation.drop(labels=[\"事故\", \"安全违章\", \"服务违章\"], axis=1)\n"
   ],
   "metadata": {
    "collapsed": false
   }
  },
  {
   "cell_type": "code",
   "execution_count": null,
   "outputs": [],
   "source": [
    "safety_accident.columns = safety_accident.columns.str.replace('事故日期', '开班日期')\n",
    "\n",
    "safety_accident['开班日期'] = pd.to_datetime(safety_accident['开班日期'],format='%Y-%M-%d').dt.date.astype(object)\n",
    "safety_accident\n",
    "pwork['开班日期'] = pd.to_datetime(pwork['开班日期'],format='%Y-%M-%d').dt.date.astype(object)\n",
    "res = pd.merge(pwork, safety_accident, how='right', on=['员工编号', '开班日期'])\n",
    "res\n",
    "# print(safety_accident)"
   ],
   "metadata": {
    "collapsed": false
   }
  },
  {
   "cell_type": "code",
   "execution_count": null,
   "outputs": [],
   "source": [
    "import matplotlib.pyplot as plt\n",
    "y_1 = res['工作时长（小时）']\n",
    "y_2 = res['驾车时长（小时）']\n",
    "y_3 = res['运营时长（小时）']\n",
    "x = [i for i in range(len(y_1))]\n",
    "plt.plot(x, y_1)\n",
    "plt.plot(x, y_2)\n",
    "plt.plot(x, y_3)\n",
    "plt.show()\n",
    "\n",
    "print(res)\n",
    "import seaborn as sns\n",
    "hres = res[[\"工作时长（小时）\", \"驾车时长（小时）\", \"运营时长（小时）\"]]\n",
    "plot=sns.heatmap(res)\n",
    "plt.show()"
   ],
   "metadata": {
    "collapsed": false
   }
  },
  {
   "cell_type": "code",
   "execution_count": null,
   "outputs": [],
   "source": [
    "hh = pd.merge(pwork, safety_accident, how='left', on=['员工编号'])\n",
    "hh.insert(loc=len(hh.columns.array), column=\"事故\", value = 1)\n",
    "hh.loc[hh['事故原因'].isna(), \"事故\"]  = 0\n",
    "print(hh)\n",
    "import seaborn as sns\n",
    "hres = hh[[\"工作时长（小时）\", \"驾车时长（小时）\", \"运营时长（小时）\", \"事故\"]]\n",
    "\n",
    "plt.subplots(figsize=(20,15))\n",
    "ax = plt.axes()\n",
    "ax.set_title(\"Correlation Heatmap\")\n",
    "corr = hres.corr()\n",
    "sns.heatmap(corr,\n",
    "            xticklabels=corr.columns.values,\n",
    "            yticklabels=corr.columns.values)\n",
    "plt.show()"
   ],
   "metadata": {
    "collapsed": false
   }
  },
  {
   "cell_type": "markdown",
   "source": [],
   "metadata": {
    "collapsed": false
   }
  },
  {
   "cell_type": "code",
   "execution_count": null,
   "outputs": [],
   "source": [
    "oth_res = pd.merge(pwork, safety_accident, how='left', on=['员工编号'])\n",
    "print(oth_res)\n",
    "oth_y_1 = oth_res[oth_res['开班日期_y'].isna()]['工作时长（小时）']\n",
    "oth_y_2 = oth_res[oth_res['开班日期_y'].isna()]['驾车时长（小时）']\n",
    "oth_y_3 = oth_res[oth_res['开班日期_y'].isna()]['运营时长（小时）']\n",
    "oth_x = [i for i in range(len(oth_y_1))]\n",
    "plt.subplot(3, 2, 1)\n",
    "plt.scatter(x, y_1)\n",
    "plt.subplot(3, 2, 2)\n",
    "plt.scatter(oth_x, oth_y_1)\n",
    "plt.show()\n",
    "plt.subplot(3, 2, 3)\n",
    "plt.scatter(x, y_2)\n",
    "plt.subplot(3, 2, 4)\n",
    "plt.scatter(oth_x, oth_y_2)\n",
    "plt.show()\n",
    "plt.subplot(3, 2, 5)\n",
    "plt.scatter(x, y_3)\n",
    "plt.subplot(3, 2, 6)\n",
    "plt.scatter(oth_x, oth_y_3)\n",
    "plt.show()"
   ],
   "metadata": {
    "collapsed": false
   }
  },
  {
   "cell_type": "code",
   "execution_count": null,
   "outputs": [],
   "source": [
    "print(service_violation.groupby(service_violation['服务违章项目']).value_counts())"
   ],
   "metadata": {
    "collapsed": false
   }
  },
  {
   "cell_type": "code",
   "execution_count": null,
   "outputs": [],
   "source": [
    "service_res = pd.merge(service_violation, safety_accident, how='left', on=['员工编号'])\n",
    "print(service_res)\n",
    "no_num = len(service_res[oth_res['开班日期_y'].isna()])\n",
    "ys_num = len(service_res['服务违章项目']) - no_num\n",
    "plt.bar([0, 1], [no_num, ys_num],  width=0.5)\n",
    "plt.show()\n",
    "plt.pie([float(no_num)/float(no_num + ys_num), float(ys_num)/float(no_num + ys_num)])\n",
    "plt.show()"
   ],
   "metadata": {
    "collapsed": false
   }
  },
  {
   "cell_type": "code",
   "execution_count": null,
   "outputs": [],
   "source": [
    "# pinformation\n",
    "# pinformation = pinformation.drop(labels=[ \"服务违章\"], axis=1)\n",
    "pinformation.insert(loc=6, column=\"服务违章\", value = 0)\n",
    "\n",
    "pinformation.loc[pinformation[\"员工编号\"].isin(service_violation[\"员工编号\"]), \"服务违章\"] = 1\n",
    "pinformation"
   ],
   "metadata": {
    "collapsed": false
   }
  },
  {
   "cell_type": "code",
   "execution_count": null,
   "outputs": [],
   "source": [
    "safety_res = pd.merge(safety_violation, safety_accident, how='left', on=['员工编号'])\n",
    "print(safety_res)\n",
    "sno_num = len(safety_res[safety_res['开班日期'].isna()])\n",
    "sys_num = len(safety_res['安全违章项目']) - sno_num\n",
    "plt.bar([0, 1], [sno_num, sys_num],  width=0.5)\n",
    "plt.show()\n",
    "plt.pie([float(sno_num)/float(sno_num + sys_num), float(sys_num)/float(sno_num + sys_num)])\n",
    "plt.show()"
   ],
   "metadata": {
    "collapsed": false
   }
  },
  {
   "cell_type": "code",
   "execution_count": null,
   "outputs": [],
   "source": [
    "\n",
    "pinformation.insert(loc=7, column=\"安全违章\", value = 0)\n",
    "pinformation\n",
    "pinformation.loc[pinformation[\"员工编号\"].isin(safety_violation[\"员工编号\"]), \"安全违章\"] = 1\n",
    "print(pinformation[\"安全违章\"].value_counts())"
   ],
   "metadata": {
    "collapsed": false
   }
  },
  {
   "cell_type": "code",
   "execution_count": null,
   "outputs": [],
   "source": [
    "pinformation.insert(loc=8, column=\"事故\", value = 0)\n",
    "pinformation\n",
    "pinformation.loc[pinformation[\"员工编号\"].isin(safety_accident[\"员工编号\"]), \"事故\"] = 1\n",
    "pinformation"
   ],
   "metadata": {
    "collapsed": false
   }
  },
  {
   "cell_type": "code",
   "execution_count": null,
   "outputs": [],
   "source": [
    "pinformation = pinformation.drop(labels=[\"初领证日期\"], axis=1)\n",
    "pinformation = pinformation.drop(labels=[\"员工编号\"], axis=1)\n",
    "# pinformation = pinformation.drop(labels=[\"入职日期\"], axis=1)\n",
    "pinformation\n",
    "print(pinformation['事故'].value_counts())\n",
    "pinformation.to_csv(\"./data1.csv\", index = False)"
   ],
   "metadata": {
    "collapsed": false
   }
  },
  {
   "cell_type": "code",
   "execution_count": null,
   "outputs": [],
   "source": [
    "print(pinformation[pinformation['安全违章']==1]['事故'].value_counts())"
   ],
   "metadata": {
    "collapsed": false
   }
  },
  {
   "cell_type": "code",
   "execution_count": null,
   "outputs": [],
   "source": [
    "data_list = pinformation.values.tolist()\n",
    "print(data_list)\n",
    "label_list = []\n",
    "for i in range(len(data_list)):\n",
    "    label_list.append([data_list[i][-1]])\n",
    "    data_list[i] = data_list[i][:-1]\n",
    "print(data_list)\n",
    "print(label_list)"
   ],
   "metadata": {
    "collapsed": false
   }
  },
  {
   "cell_type": "code",
   "execution_count": null,
   "outputs": [],
   "source": [
    "from sklearn.metrics import precision_recall_curve, roc_curve, classification_report\n",
    "def num_get(y_score,y_test):\n",
    "    #由于我们是多标签模型，所以循环输出每种标签的值\n",
    "    Precision,Recall,_ = precision_recall_curve(y_test[:],y_score[:])\n",
    "    FPR,TPR,_ = roc_curve(y_test[:], y_score[:])\n",
    "    return Precision,Recall,TPR,FPR\n",
    "\n",
    "def draw_line(Precision,Recall,TPR,FPR,classes,title='model'):\n",
    "    plt.figure(figsize=(14, 8))\n",
    "    plt.suptitle(title+' 的P-R曲线和ROC曲线', fontsize = 30)\n",
    "    ax1=plt.subplot(1,2,1)\n",
    "    plt.xlabel(\"Recall\")\n",
    "    plt.ylabel(\"Preccision\")\n",
    "    plt.xlim([0.0, 1.0])\n",
    "    plt.ylim([0.0, 1.05])\n",
    "    l, = plt.plot(Recall, Precision)\n",
    "    ax2=plt.subplot(1,2,2)\n",
    "    plt.xlabel(\"False Positive Rate\")\n",
    "    plt.ylabel(\"True Positive Rate\")\n",
    "    plt.xlim([0.0, 1.0])\n",
    "    plt.ylim([0.0, 1.05])\n",
    "\n",
    "    l, = plt.plot(FPR, TPR)\n",
    "    ax1.set_title(\"P-R Pic\")\n",
    "    ax2.set_title(\"ROC Pic\")\n",
    "    plt.savefig(title+'PR-ROC.png')\n",
    "    plt.show()"
   ],
   "metadata": {
    "collapsed": false
   }
  },
  {
   "cell_type": "code",
   "execution_count": null,
   "outputs": [],
   "source": [
    "from sklearn import tree\n",
    "import numpy as np\n",
    "from io import StringIO\n",
    "import pydotplus\n",
    "\n",
    "X = np.array(data_list)\n",
    "y = np.array(label_list)\n",
    "tree_model = tree.DecisionTreeClassifier(criterion='gini',\n",
    "                                         max_depth=None,\n",
    "                                         min_samples_leaf=1,\n",
    "                                         ccp_alpha=0.0)\n",
    "tree_model.fit(X, y)\n",
    "dot_data = StringIO()\n",
    "feature_names = [\"sex\", \"age\", \"grade\", \"word_year\", \"service_violation\", \"safe_violation\"]\n",
    "target_names = ['no_safe_accident', 'safe_accident']\n",
    "tree.export_graphviz(tree_model,\n",
    "                     out_file=dot_data,\n",
    "                     feature_names=feature_names,\n",
    "                     class_names=target_names,\n",
    "                     filled=True,\n",
    "                     rounded=True,\n",
    "                     special_characters=True)\n",
    "dot_data_val = dot_data.getvalue()\n",
    "dot_data_val = dot_data_val.replace('helvetica', 'MicrosoftYaHei')\n",
    "graph = pydotplus.graph_from_dot_data(dot_data.getvalue())\n",
    "from IPython.display import Image  # 可视化展示决策树\n",
    "\n",
    "Image(graph.create_png())"
   ],
   "metadata": {
    "collapsed": false
   }
  }
 ],
 "metadata": {
  "kernelspec": {
   "display_name": "Python 3",
   "language": "python",
   "name": "python3"
  },
  "language_info": {
   "codemirror_mode": {
    "name": "ipython",
    "version": 2
   },
   "file_extension": ".py",
   "mimetype": "text/x-python",
   "name": "python",
   "nbconvert_exporter": "python",
   "pygments_lexer": "ipython2",
   "version": "2.7.6"
  }
 },
 "nbformat": 4,
 "nbformat_minor": 0
}
